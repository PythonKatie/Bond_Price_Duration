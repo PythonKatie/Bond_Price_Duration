{
 "cells": [
  {
   "cell_type": "code",
   "execution_count": 11,
   "metadata": {},
   "outputs": [
    {
     "name": "stdin",
     "output_type": "stream",
     "text": [
      "Please enter Face Value for bond  1000\n",
      "Please enter Coupon Rate  .1\n",
      "Please enter Yield to Maturity Rate  .05\n",
      "Please enter time to expiration in years  1\n"
     ]
    },
    {
     "name": "stdout",
     "output_type": "stream",
     "text": [
      "The Bond Price is  1047.62\n"
     ]
    }
   ],
   "source": [
    "## Calculate Bond Price as a function\n",
    "def bond_price(face_value, cpn_rate, r, t):\n",
    "   \n",
    "    cpn_amt = cpn_rate * face_value\n",
    "    sum_pv_cpn = 0\n",
    "    \n",
    "    for i in range(1,t+1):\n",
    "        pv_cpn = cpn_amt/((1+ r)**i)\n",
    "        sum_pv_cpn += pv_cpn\n",
    "    \n",
    "    pv_face_value = face_value/((1+r)**t)\n",
    "    \n",
    "    bond_price = pv_face_value + sum_pv_cpn\n",
    "        \n",
    "    return bond_price\n",
    "\n",
    "## Computing Duration\n",
    "def mod_dur()\n",
    "\n",
    "###\n",
    "        \n",
    "def main():\n",
    "   fv = int(input(\"Please enter Face Value for bond \"))\n",
    "   cpnr = float(input(\"Please enter Coupon Rate \"))\n",
    "   ytm = float(input(\"Please enter Yield to Maturity Rate \"))\n",
    "   t = int(input(\"Please enter time to expiration in years \"))\n",
    "   price =  bond_price(fv, cpnr, ytm, t)\n",
    "  # print(\"The Bond Price is \", bond_price(fv, cpnr, ytm, t))\n",
    "   price = str(round(price, 2))\n",
    "   print(\"The Bond Price is \", price)\n",
    "  \n",
    "main()"
   ]
  },
  {
   "cell_type": "code",
   "execution_count": null,
   "metadata": {},
   "outputs": [],
   "source": []
  }
 ],
 "metadata": {
  "kernelspec": {
   "display_name": "Python 3",
   "language": "python",
   "name": "python3"
  },
  "language_info": {
   "codemirror_mode": {
    "name": "ipython",
    "version": 3
   },
   "file_extension": ".py",
   "mimetype": "text/x-python",
   "name": "python",
   "nbconvert_exporter": "python",
   "pygments_lexer": "ipython3",
   "version": "3.7.3"
  }
 },
 "nbformat": 4,
 "nbformat_minor": 4
}
