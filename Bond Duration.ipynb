{
 "cells": [
  {
   "cell_type": "code",
   "execution_count": 36,
   "metadata": {},
   "outputs": [
    {
     "name": "stdout",
     "output_type": "stream",
     "text": [
      "Price of Bond is  692.77\n",
      "The MAC Duration of bond is  7.6609\n",
      "The MOD Duration of bond is  6.9644\n"
     ]
    }
   ],
   "source": [
    "def mac_dur(ytm, t, cpnrate, fv):\n",
    "    pmt = fv*cpnrate\n",
    "    sumcpn = 0\n",
    "    sumy = 0\n",
    "  \n",
    "    for i in range(1, t+1):\n",
    "        x = pmt/(1+ytm)**i\n",
    "        y = (pmt*i)/(1+ytm)**i\n",
    "        sumcpn += x\n",
    "        sumy += y\n",
    "\n",
    "    FVx = fv/(1+ytm)**t\n",
    "    FVy = (fv*t)/(1+ytm)**t\n",
    "    \n",
    "    price = sumcpn + FVx\n",
    "    mac_dur = (sumy + FVy)/price\n",
    "    \n",
    "    price = str(round(price, 2))\n",
    "    print(\"Price of Bond is \", price)\n",
    "    \n",
    "    return mac_dur\n",
    "\n",
    "def main():\n",
    "   fv = 1000\n",
    "   cpnrate = .05\n",
    "   ytm = .10\n",
    "   t = 10\n",
    "     \n",
    "   mdur =  mac_dur(ytm, t, cpnrate, fv)\n",
    "   mod_dur = mdur/(1+(ytm/1))\n",
    "   mdur = str(round(mdur, 4))\n",
    "   mod_dur = str(round(mod_dur, 4))\n",
    "   print(\"The MAC Duration of bond is \", mdur)\n",
    "   print(\"The MOD Duration of bond is \", mod_dur)  \n",
    "  \n",
    "main()"
   ]
  },
  {
   "cell_type": "code",
   "execution_count": null,
   "metadata": {},
   "outputs": [],
   "source": [
    "\n",
    "\n",
    "\n",
    "\n",
    "\n",
    "\n",
    "\n",
    "\n",
    "\n",
    "\n",
    "\n"
   ]
  }
 ],
 "metadata": {
  "kernelspec": {
   "display_name": "Python 3",
   "language": "python",
   "name": "python3"
  },
  "language_info": {
   "codemirror_mode": {
    "name": "ipython",
    "version": 3
   },
   "file_extension": ".py",
   "mimetype": "text/x-python",
   "name": "python",
   "nbconvert_exporter": "python",
   "pygments_lexer": "ipython3",
   "version": "3.7.3"
  }
 },
 "nbformat": 4,
 "nbformat_minor": 4
}
